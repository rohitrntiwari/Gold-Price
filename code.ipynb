{
 "cells": [
  {
   "cell_type": "code",
   "execution_count": null,
   "id": "8446b490",
   "metadata": {},
   "outputs": [],
   "source": [
    "import numpy as np\n",
    "import pandas as pd\n",
    "import matplotlib.pyplot as plt\n",
    "import seaborn as sns\n",
    "from sklearn.model_selection import train_test_split\n",
    "from sklearn.ensemble import RandomForestRegressor\n",
    "from sklearn import metrics"
   ]
  },
  {
   "cell_type": "markdown",
   "id": "f62e8475",
   "metadata": {},
   "source": [
    "Data Collection and Processing"
   ]
  },
  {
   "cell_type": "code",
   "execution_count": null,
   "id": "f613fe64",
   "metadata": {},
   "outputs": [],
   "source": [
    "# Loading the csv data to a Pandas DataFrame\n",
    "gold_data=pd.read_csv('D:\\project\\Gold Price\\gld_price_data.csv')"
   ]
  },
  {
   "cell_type": "code",
   "execution_count": null,
   "id": "740240e3",
   "metadata": {},
   "outputs": [],
   "source": [
    "# Print first 5 rows in the dataframe\n",
    "gold_data.head()"
   ]
  },
  {
   "cell_type": "code",
   "execution_count": null,
   "id": "49be91fa",
   "metadata": {},
   "outputs": [],
   "source": [
    "#print last 5 row in the dataframe\n",
    "gold_data.tail()"
   ]
  },
  {
   "cell_type": "code",
   "execution_count": null,
   "id": "73307c79",
   "metadata": {},
   "outputs": [],
   "source": [
    "# number of rows and column\n",
    "gold_data.shape"
   ]
  },
  {
   "cell_type": "code",
   "execution_count": null,
   "id": "749bc045",
   "metadata": {},
   "outputs": [],
   "source": [
    "# getting some basic informations about the data\n",
    "gold_data.info()"
   ]
  },
  {
   "cell_type": "code",
   "execution_count": null,
   "id": "2692e648",
   "metadata": {},
   "outputs": [],
   "source": [
    "# checking the number of missing values\n",
    "gold_data.isnull().sum()"
   ]
  },
  {
   "cell_type": "code",
   "execution_count": null,
   "id": "dbb482e4",
   "metadata": {},
   "outputs": [],
   "source": [
    "# getting the statistical measures of the data\n",
    "gold_data.describe()"
   ]
  },
  {
   "cell_type": "markdown",
   "id": "41056c1b",
   "metadata": {},
   "source": [
    "Correlation :\n",
    "1. positive Correlation \n",
    "2. Negative Correlation"
   ]
  },
  {
   "cell_type": "code",
   "execution_count": null,
   "id": "cbf48188",
   "metadata": {},
   "outputs": [],
   "source": [
    "correlation = gold_data.corr()"
   ]
  },
  {
   "cell_type": "code",
   "execution_count": null,
   "id": "7b3906a3",
   "metadata": {},
   "outputs": [],
   "source": [
    "correlation = gold_data.select_dtypes(include='number').corr()\n"
   ]
  },
  {
   "cell_type": "code",
   "execution_count": null,
   "id": "7e3a5bb2",
   "metadata": {},
   "outputs": [],
   "source": [
    "# constructing a heatm,ap to understand the correlation\n",
    "plt.figure(figsize = (8,8))\n",
    "sns.heatmap(correlation,cbar=True,fmt='.1f',annot=True,annot_kws={'size':8},cmap='Blues')"
   ]
  },
  {
   "cell_type": "code",
   "execution_count": null,
   "id": "1970145d",
   "metadata": {},
   "outputs": [],
   "source": [
    "# correlation values of gold\n",
    "print(correlation['GLD'])"
   ]
  },
  {
   "cell_type": "code",
   "execution_count": null,
   "id": "c3ff18f3",
   "metadata": {},
   "outputs": [],
   "source": [
    "#check the distribution of the GLD Price\n",
    "sns.distplot(gold_data['GLD'],color='red')"
   ]
  },
  {
   "cell_type": "markdown",
   "id": "6bcdab0a",
   "metadata": {},
   "source": [
    "Splitting the features and target"
   ]
  },
  {
   "cell_type": "code",
   "execution_count": null,
   "id": "a6e8e346",
   "metadata": {},
   "outputs": [],
   "source": [
    "X = gold_data.drop(['Date','GLD'],axis=1)\n",
    "Y = gold_data['GLD']"
   ]
  },
  {
   "cell_type": "code",
   "execution_count": null,
   "id": "c04d49ee",
   "metadata": {},
   "outputs": [],
   "source": [
    "print(X)"
   ]
  },
  {
   "cell_type": "code",
   "execution_count": null,
   "id": "750f19d4",
   "metadata": {},
   "outputs": [],
   "source": [
    "print(Y)"
   ]
  },
  {
   "cell_type": "markdown",
   "id": "9896b15a",
   "metadata": {},
   "source": [
    "Spliting into Traning data and Test Data"
   ]
  },
  {
   "cell_type": "code",
   "execution_count": null,
   "id": "b02f198d",
   "metadata": {},
   "outputs": [],
   "source": [
    "X_train,X_test,Y_train,Y_test = train_test_split(X,Y,test_size=0.2,random_state=2)"
   ]
  },
  {
   "cell_type": "markdown",
   "id": "eb5de411",
   "metadata": {},
   "source": [
    "Model Training: Random Forest Regressor"
   ]
  },
  {
   "cell_type": "code",
   "execution_count": null,
   "id": "ac5e0470",
   "metadata": {},
   "outputs": [],
   "source": [
    "regressor = RandomForestRegressor(n_estimators=100)"
   ]
  },
  {
   "cell_type": "code",
   "execution_count": null,
   "id": "95313769",
   "metadata": {},
   "outputs": [],
   "source": [
    "# Training the model\n",
    "regressor.fit(X_train,Y_train)"
   ]
  },
  {
   "cell_type": "markdown",
   "id": "ce02a0c3",
   "metadata": {},
   "source": [
    "Model Evalution"
   ]
  },
  {
   "cell_type": "code",
   "execution_count": null,
   "id": "fa98c432",
   "metadata": {},
   "outputs": [],
   "source": [
    "# prediction on Test Data \n",
    "test_data_prediction = regressor.predict(X_test)"
   ]
  },
  {
   "cell_type": "code",
   "execution_count": null,
   "id": "f04b7ccb",
   "metadata": {},
   "outputs": [],
   "source": [
    "print(test_data_prediction)"
   ]
  },
  {
   "cell_type": "code",
   "execution_count": null,
   "id": "f929bd70",
   "metadata": {},
   "outputs": [],
   "source": [
    "# R Squared Error\n",
    "error_score = metrics.r2_score(Y_test,test_data_prediction)\n",
    "print(\"R Squared error : \",error_score)"
   ]
  },
  {
   "cell_type": "markdown",
   "id": "d5448ce8",
   "metadata": {},
   "source": [
    "Compare the Actual Value and Predicted Values in a Plot"
   ]
  },
  {
   "cell_type": "code",
   "execution_count": null,
   "id": "8dad5236",
   "metadata": {},
   "outputs": [],
   "source": [
    "Y_test = list(Y_test)"
   ]
  },
  {
   "cell_type": "code",
   "execution_count": null,
   "id": "9f473531",
   "metadata": {},
   "outputs": [],
   "source": [
    "plt.plot(Y_test,color='blue',label = 'Actual Value')\n",
    "plt.plot(test_data_prediction,color='green',label='Predicted Value')\n",
    "plt.title('Actual Price vs Predicted Price')\n",
    "plt.xlabel('Number of Values')\n",
    "plt.ylabel('GLD Price')\n",
    "plt.legend()\n",
    "plt.show()"
   ]
  },
  {
   "cell_type": "code",
   "execution_count": null,
   "id": "74c2d08c",
   "metadata": {},
   "outputs": [],
   "source": []
  }
 ],
 "metadata": {
  "kernelspec": {
   "display_name": "Python 3",
   "language": "python",
   "name": "python3"
  },
  "language_info": {
   "codemirror_mode": {
    "name": "ipython",
    "version": 3
   },
   "file_extension": ".py",
   "mimetype": "text/x-python",
   "name": "python",
   "nbconvert_exporter": "python",
   "pygments_lexer": "ipython3",
   "version": "3.10.7"
  }
 },
 "nbformat": 4,
 "nbformat_minor": 5
}
